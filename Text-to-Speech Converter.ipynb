{
 "cells": [
  {
   "cell_type": "markdown",
   "id": "5fe839a5-a336-43a0-99df-f5890ded311c",
   "metadata": {},
   "source": [
    "Text-to-Speech Converter"
   ]
  },
  {
   "cell_type": "markdown",
   "id": "7fa6ae80-3115-4e0b-b7f5-73976c5e86f6",
   "metadata": {},
   "source": [
    "🎯 Goal\n",
    "Create a program that converts any text input into spoken words using Python’s text-to-speech capabilities."
   ]
  },
  {
   "cell_type": "markdown",
   "id": "47caf6b1-4235-4d3d-b695-227c720164a1",
   "metadata": {},
   "source": [
    "Install the Library"
   ]
  },
  {
   "cell_type": "code",
   "execution_count": 1,
   "id": "e3545e0b-6c58-40bf-843e-f82e89ab1b97",
   "metadata": {},
   "outputs": [
    {
     "name": "stdout",
     "output_type": "stream",
     "text": [
      "Collecting pyttsx3\n",
      "  Downloading pyttsx3-2.98-py3-none-any.whl.metadata (3.8 kB)\n",
      "Collecting comtypes (from pyttsx3)\n",
      "  Downloading comtypes-1.4.11-py3-none-any.whl.metadata (7.2 kB)\n",
      "Collecting pypiwin32 (from pyttsx3)\n",
      "  Downloading pypiwin32-223-py3-none-any.whl.metadata (236 bytes)\n",
      "Requirement already satisfied: pywin32 in c:\\users\\yaama\\anaconda3\\lib\\site-packages (from pyttsx3) (305.1)\n",
      "Downloading pyttsx3-2.98-py3-none-any.whl (34 kB)\n",
      "Downloading comtypes-1.4.11-py3-none-any.whl (246 kB)\n",
      "Downloading pypiwin32-223-py3-none-any.whl (1.7 kB)\n",
      "Installing collected packages: pypiwin32, comtypes, pyttsx3\n",
      "Successfully installed comtypes-1.4.11 pypiwin32-223 pyttsx3-2.98\n",
      "Note: you may need to restart the kernel to use updated packages.\n"
     ]
    }
   ],
   "source": [
    "pip install pyttsx3\n"
   ]
  },
  {
   "cell_type": "markdown",
   "id": "bf361093-947d-4314-9e3f-e720d9999797",
   "metadata": {},
   "source": [
    "Import and Initialize"
   ]
  },
  {
   "cell_type": "code",
   "execution_count": 2,
   "id": "201da95b-2665-40ee-a725-9a40ea6b188e",
   "metadata": {},
   "outputs": [],
   "source": [
    "import pyttsx3\n",
    "\n",
    "engine = pyttsx3.init()\n"
   ]
  },
  {
   "cell_type": "markdown",
   "id": "c19a22c6-2864-42d1-a92c-aef6c4bb1aca",
   "metadata": {},
   "source": [
    "Get Text Input and Speak"
   ]
  },
  {
   "cell_type": "code",
   "execution_count": null,
   "id": "8f710bda-a791-4027-b004-b3193c4888e6",
   "metadata": {},
   "outputs": [
    {
     "name": "stdin",
     "output_type": "stream",
     "text": [
      "Enter the text you want to hear:  AMAR KUMAR BABU\n"
     ]
    }
   ],
   "source": [
    "text = input(\"Enter the text you want to hear: \")\n",
    "engine.say(text)\n",
    "engine.runAndWait()\n"
   ]
  },
  {
   "cell_type": "code",
   "execution_count": null,
   "id": "8c8c82cd-b9f0-471c-b051-b1b25bac4556",
   "metadata": {},
   "outputs": [],
   "source": []
  }
 ],
 "metadata": {
  "kernelspec": {
   "display_name": "Python 3 (ipykernel)",
   "language": "python",
   "name": "python3"
  },
  "language_info": {
   "codemirror_mode": {
    "name": "ipython",
    "version": 3
   },
   "file_extension": ".py",
   "mimetype": "text/x-python",
   "name": "python",
   "nbconvert_exporter": "python",
   "pygments_lexer": "ipython3",
   "version": "3.12.7"
  }
 },
 "nbformat": 4,
 "nbformat_minor": 5
}
